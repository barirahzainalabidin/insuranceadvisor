{
  "nbformat": 4,
  "nbformat_minor": 0,
  "metadata": {
    "colab": {
      "provenance": []
    },
    "kernelspec": {
      "name": "python3",
      "display_name": "Python 3"
    },
    "language_info": {
      "name": "python"
    }
  },
  "cells": [
    {
      "cell_type": "markdown",
      "source": [
        "These brochure insurance pdf i got from google search engine"
      ],
      "metadata": {
        "id": "h3lFn_Ei5dC1"
      }
    },
    {
      "cell_type": "code",
      "execution_count": 1,
      "metadata": {
        "colab": {
          "base_uri": "https://localhost:8080/"
        },
        "id": "UAJKIRiV4idC",
        "outputId": "16b0b437-3437-4b68-fa1d-e14702958017"
      },
      "outputs": [
        {
          "output_type": "stream",
          "name": "stdout",
          "text": [
            "Collecting langchain-community\n",
            "  Downloading langchain_community-0.3.7-py3-none-any.whl.metadata (2.9 kB)\n",
            "Requirement already satisfied: PyYAML>=5.3 in /usr/local/lib/python3.10/dist-packages (from langchain-community) (6.0.2)\n",
            "Collecting SQLAlchemy<2.0.36,>=1.4 (from langchain-community)\n",
            "  Downloading SQLAlchemy-2.0.35-cp310-cp310-manylinux_2_17_x86_64.manylinux2014_x86_64.whl.metadata (9.6 kB)\n",
            "Requirement already satisfied: aiohttp<4.0.0,>=3.8.3 in /usr/local/lib/python3.10/dist-packages (from langchain-community) (3.10.10)\n",
            "Collecting dataclasses-json<0.7,>=0.5.7 (from langchain-community)\n",
            "  Downloading dataclasses_json-0.6.7-py3-none-any.whl.metadata (25 kB)\n",
            "Collecting httpx-sse<0.5.0,>=0.4.0 (from langchain-community)\n",
            "  Downloading httpx_sse-0.4.0-py3-none-any.whl.metadata (9.0 kB)\n",
            "Requirement already satisfied: langchain<0.4.0,>=0.3.7 in /usr/local/lib/python3.10/dist-packages (from langchain-community) (0.3.7)\n",
            "Requirement already satisfied: langchain-core<0.4.0,>=0.3.17 in /usr/local/lib/python3.10/dist-packages (from langchain-community) (0.3.17)\n",
            "Requirement already satisfied: langsmith<0.2.0,>=0.1.125 in /usr/local/lib/python3.10/dist-packages (from langchain-community) (0.1.142)\n",
            "Requirement already satisfied: numpy<2,>=1 in /usr/local/lib/python3.10/dist-packages (from langchain-community) (1.26.4)\n",
            "Collecting pydantic-settings<3.0.0,>=2.4.0 (from langchain-community)\n",
            "  Downloading pydantic_settings-2.6.1-py3-none-any.whl.metadata (3.5 kB)\n",
            "Requirement already satisfied: requests<3,>=2 in /usr/local/lib/python3.10/dist-packages (from langchain-community) (2.32.3)\n",
            "Requirement already satisfied: tenacity!=8.4.0,<10,>=8.1.0 in /usr/local/lib/python3.10/dist-packages (from langchain-community) (9.0.0)\n",
            "Requirement already satisfied: aiohappyeyeballs>=2.3.0 in /usr/local/lib/python3.10/dist-packages (from aiohttp<4.0.0,>=3.8.3->langchain-community) (2.4.3)\n",
            "Requirement already satisfied: aiosignal>=1.1.2 in /usr/local/lib/python3.10/dist-packages (from aiohttp<4.0.0,>=3.8.3->langchain-community) (1.3.1)\n",
            "Requirement already satisfied: attrs>=17.3.0 in /usr/local/lib/python3.10/dist-packages (from aiohttp<4.0.0,>=3.8.3->langchain-community) (24.2.0)\n",
            "Requirement already satisfied: frozenlist>=1.1.1 in /usr/local/lib/python3.10/dist-packages (from aiohttp<4.0.0,>=3.8.3->langchain-community) (1.5.0)\n",
            "Requirement already satisfied: multidict<7.0,>=4.5 in /usr/local/lib/python3.10/dist-packages (from aiohttp<4.0.0,>=3.8.3->langchain-community) (6.1.0)\n",
            "Requirement already satisfied: yarl<2.0,>=1.12.0 in /usr/local/lib/python3.10/dist-packages (from aiohttp<4.0.0,>=3.8.3->langchain-community) (1.17.1)\n",
            "Requirement already satisfied: async-timeout<5.0,>=4.0 in /usr/local/lib/python3.10/dist-packages (from aiohttp<4.0.0,>=3.8.3->langchain-community) (4.0.3)\n",
            "Collecting marshmallow<4.0.0,>=3.18.0 (from dataclasses-json<0.7,>=0.5.7->langchain-community)\n",
            "  Downloading marshmallow-3.23.1-py3-none-any.whl.metadata (7.5 kB)\n",
            "Collecting typing-inspect<1,>=0.4.0 (from dataclasses-json<0.7,>=0.5.7->langchain-community)\n",
            "  Downloading typing_inspect-0.9.0-py3-none-any.whl.metadata (1.5 kB)\n",
            "Requirement already satisfied: langchain-text-splitters<0.4.0,>=0.3.0 in /usr/local/lib/python3.10/dist-packages (from langchain<0.4.0,>=0.3.7->langchain-community) (0.3.2)\n",
            "Requirement already satisfied: pydantic<3.0.0,>=2.7.4 in /usr/local/lib/python3.10/dist-packages (from langchain<0.4.0,>=0.3.7->langchain-community) (2.9.2)\n",
            "Requirement already satisfied: jsonpatch<2.0,>=1.33 in /usr/local/lib/python3.10/dist-packages (from langchain-core<0.4.0,>=0.3.17->langchain-community) (1.33)\n",
            "Requirement already satisfied: packaging<25,>=23.2 in /usr/local/lib/python3.10/dist-packages (from langchain-core<0.4.0,>=0.3.17->langchain-community) (24.2)\n",
            "Requirement already satisfied: typing-extensions>=4.7 in /usr/local/lib/python3.10/dist-packages (from langchain-core<0.4.0,>=0.3.17->langchain-community) (4.12.2)\n",
            "Requirement already satisfied: httpx<1,>=0.23.0 in /usr/local/lib/python3.10/dist-packages (from langsmith<0.2.0,>=0.1.125->langchain-community) (0.27.2)\n",
            "Requirement already satisfied: orjson<4.0.0,>=3.9.14 in /usr/local/lib/python3.10/dist-packages (from langsmith<0.2.0,>=0.1.125->langchain-community) (3.10.11)\n",
            "Requirement already satisfied: requests-toolbelt<2.0.0,>=1.0.0 in /usr/local/lib/python3.10/dist-packages (from langsmith<0.2.0,>=0.1.125->langchain-community) (1.0.0)\n",
            "Collecting python-dotenv>=0.21.0 (from pydantic-settings<3.0.0,>=2.4.0->langchain-community)\n",
            "  Downloading python_dotenv-1.0.1-py3-none-any.whl.metadata (23 kB)\n",
            "Requirement already satisfied: charset-normalizer<4,>=2 in /usr/local/lib/python3.10/dist-packages (from requests<3,>=2->langchain-community) (3.4.0)\n",
            "Requirement already satisfied: idna<4,>=2.5 in /usr/local/lib/python3.10/dist-packages (from requests<3,>=2->langchain-community) (3.10)\n",
            "Requirement already satisfied: urllib3<3,>=1.21.1 in /usr/local/lib/python3.10/dist-packages (from requests<3,>=2->langchain-community) (2.2.3)\n",
            "Requirement already satisfied: certifi>=2017.4.17 in /usr/local/lib/python3.10/dist-packages (from requests<3,>=2->langchain-community) (2024.8.30)\n",
            "Requirement already satisfied: greenlet!=0.4.17 in /usr/local/lib/python3.10/dist-packages (from SQLAlchemy<2.0.36,>=1.4->langchain-community) (3.1.1)\n",
            "Requirement already satisfied: anyio in /usr/local/lib/python3.10/dist-packages (from httpx<1,>=0.23.0->langsmith<0.2.0,>=0.1.125->langchain-community) (3.7.1)\n",
            "Requirement already satisfied: httpcore==1.* in /usr/local/lib/python3.10/dist-packages (from httpx<1,>=0.23.0->langsmith<0.2.0,>=0.1.125->langchain-community) (1.0.6)\n",
            "Requirement already satisfied: sniffio in /usr/local/lib/python3.10/dist-packages (from httpx<1,>=0.23.0->langsmith<0.2.0,>=0.1.125->langchain-community) (1.3.1)\n",
            "Requirement already satisfied: h11<0.15,>=0.13 in /usr/local/lib/python3.10/dist-packages (from httpcore==1.*->httpx<1,>=0.23.0->langsmith<0.2.0,>=0.1.125->langchain-community) (0.14.0)\n",
            "Requirement already satisfied: jsonpointer>=1.9 in /usr/local/lib/python3.10/dist-packages (from jsonpatch<2.0,>=1.33->langchain-core<0.4.0,>=0.3.17->langchain-community) (3.0.0)\n",
            "Requirement already satisfied: annotated-types>=0.6.0 in /usr/local/lib/python3.10/dist-packages (from pydantic<3.0.0,>=2.7.4->langchain<0.4.0,>=0.3.7->langchain-community) (0.7.0)\n",
            "Requirement already satisfied: pydantic-core==2.23.4 in /usr/local/lib/python3.10/dist-packages (from pydantic<3.0.0,>=2.7.4->langchain<0.4.0,>=0.3.7->langchain-community) (2.23.4)\n",
            "Collecting mypy-extensions>=0.3.0 (from typing-inspect<1,>=0.4.0->dataclasses-json<0.7,>=0.5.7->langchain-community)\n",
            "  Downloading mypy_extensions-1.0.0-py3-none-any.whl.metadata (1.1 kB)\n",
            "Requirement already satisfied: propcache>=0.2.0 in /usr/local/lib/python3.10/dist-packages (from yarl<2.0,>=1.12.0->aiohttp<4.0.0,>=3.8.3->langchain-community) (0.2.0)\n",
            "Requirement already satisfied: exceptiongroup in /usr/local/lib/python3.10/dist-packages (from anyio->httpx<1,>=0.23.0->langsmith<0.2.0,>=0.1.125->langchain-community) (1.2.2)\n",
            "Downloading langchain_community-0.3.7-py3-none-any.whl (2.4 MB)\n",
            "\u001b[2K   \u001b[90m━━━━━━━━━━━━━━━━━━━━━━━━━━━━━━━━━━━━━━━━\u001b[0m \u001b[32m2.4/2.4 MB\u001b[0m \u001b[31m23.7 MB/s\u001b[0m eta \u001b[36m0:00:00\u001b[0m\n",
            "\u001b[?25hDownloading dataclasses_json-0.6.7-py3-none-any.whl (28 kB)\n",
            "Downloading httpx_sse-0.4.0-py3-none-any.whl (7.8 kB)\n",
            "Downloading pydantic_settings-2.6.1-py3-none-any.whl (28 kB)\n",
            "Downloading SQLAlchemy-2.0.35-cp310-cp310-manylinux_2_17_x86_64.manylinux2014_x86_64.whl (3.1 MB)\n",
            "\u001b[2K   \u001b[90m━━━━━━━━━━━━━━━━━━━━━━━━━━━━━━━━━━━━━━━━\u001b[0m \u001b[32m3.1/3.1 MB\u001b[0m \u001b[31m58.8 MB/s\u001b[0m eta \u001b[36m0:00:00\u001b[0m\n",
            "\u001b[?25hDownloading marshmallow-3.23.1-py3-none-any.whl (49 kB)\n",
            "\u001b[2K   \u001b[90m━━━━━━━━━━━━━━━━━━━━━━━━━━━━━━━━━━━━━━━━\u001b[0m \u001b[32m49.5/49.5 kB\u001b[0m \u001b[31m4.4 MB/s\u001b[0m eta \u001b[36m0:00:00\u001b[0m\n",
            "\u001b[?25hDownloading python_dotenv-1.0.1-py3-none-any.whl (19 kB)\n",
            "Downloading typing_inspect-0.9.0-py3-none-any.whl (8.8 kB)\n",
            "Downloading mypy_extensions-1.0.0-py3-none-any.whl (4.7 kB)\n",
            "Installing collected packages: SQLAlchemy, python-dotenv, mypy-extensions, marshmallow, httpx-sse, typing-inspect, pydantic-settings, dataclasses-json, langchain-community\n",
            "  Attempting uninstall: SQLAlchemy\n",
            "    Found existing installation: SQLAlchemy 2.0.36\n",
            "    Uninstalling SQLAlchemy-2.0.36:\n",
            "      Successfully uninstalled SQLAlchemy-2.0.36\n",
            "Successfully installed SQLAlchemy-2.0.35 dataclasses-json-0.6.7 httpx-sse-0.4.0 langchain-community-0.3.7 marshmallow-3.23.1 mypy-extensions-1.0.0 pydantic-settings-2.6.1 python-dotenv-1.0.1 typing-inspect-0.9.0\n",
            "Collecting tiktoken\n",
            "  Downloading tiktoken-0.8.0-cp310-cp310-manylinux_2_17_x86_64.manylinux2014_x86_64.whl.metadata (6.6 kB)\n",
            "Requirement already satisfied: regex>=2022.1.18 in /usr/local/lib/python3.10/dist-packages (from tiktoken) (2024.9.11)\n",
            "Requirement already satisfied: requests>=2.26.0 in /usr/local/lib/python3.10/dist-packages (from tiktoken) (2.32.3)\n",
            "Requirement already satisfied: charset-normalizer<4,>=2 in /usr/local/lib/python3.10/dist-packages (from requests>=2.26.0->tiktoken) (3.4.0)\n",
            "Requirement already satisfied: idna<4,>=2.5 in /usr/local/lib/python3.10/dist-packages (from requests>=2.26.0->tiktoken) (3.10)\n",
            "Requirement already satisfied: urllib3<3,>=1.21.1 in /usr/local/lib/python3.10/dist-packages (from requests>=2.26.0->tiktoken) (2.2.3)\n",
            "Requirement already satisfied: certifi>=2017.4.17 in /usr/local/lib/python3.10/dist-packages (from requests>=2.26.0->tiktoken) (2024.8.30)\n",
            "Downloading tiktoken-0.8.0-cp310-cp310-manylinux_2_17_x86_64.manylinux2014_x86_64.whl (1.2 MB)\n",
            "\u001b[2K   \u001b[90m━━━━━━━━━━━━━━━━━━━━━━━━━━━━━━━━━━━━━━━━\u001b[0m \u001b[32m1.2/1.2 MB\u001b[0m \u001b[31m12.1 MB/s\u001b[0m eta \u001b[36m0:00:00\u001b[0m\n",
            "\u001b[?25hInstalling collected packages: tiktoken\n",
            "Successfully installed tiktoken-0.8.0\n",
            "Collecting faiss-cpu\n",
            "  Downloading faiss_cpu-1.9.0-cp310-cp310-manylinux_2_17_x86_64.manylinux2014_x86_64.whl.metadata (4.4 kB)\n",
            "Requirement already satisfied: numpy<3.0,>=1.25.0 in /usr/local/lib/python3.10/dist-packages (from faiss-cpu) (1.26.4)\n",
            "Requirement already satisfied: packaging in /usr/local/lib/python3.10/dist-packages (from faiss-cpu) (24.2)\n",
            "Downloading faiss_cpu-1.9.0-cp310-cp310-manylinux_2_17_x86_64.manylinux2014_x86_64.whl (27.5 MB)\n",
            "\u001b[2K   \u001b[90m━━━━━━━━━━━━━━━━━━━━━━━━━━━━━━━━━━━━━━━━\u001b[0m \u001b[32m27.5/27.5 MB\u001b[0m \u001b[31m45.2 MB/s\u001b[0m eta \u001b[36m0:00:00\u001b[0m\n",
            "\u001b[?25hInstalling collected packages: faiss-cpu\n",
            "Successfully installed faiss-cpu-1.9.0\n",
            "Collecting PyPDF2\n",
            "  Downloading pypdf2-3.0.1-py3-none-any.whl.metadata (6.8 kB)\n",
            "Downloading pypdf2-3.0.1-py3-none-any.whl (232 kB)\n",
            "\u001b[2K   \u001b[90m━━━━━━━━━━━━━━━━━━━━━━━━━━━━━━━━━━━━━━━━\u001b[0m \u001b[32m232.6/232.6 kB\u001b[0m \u001b[31m3.3 MB/s\u001b[0m eta \u001b[36m0:00:00\u001b[0m\n",
            "\u001b[?25hInstalling collected packages: PyPDF2\n",
            "Successfully installed PyPDF2-3.0.1\n",
            "Collecting camelot-py[base]\n",
            "  Downloading camelot_py-0.11.0-py3-none-any.whl.metadata (8.3 kB)\n",
            "Requirement already satisfied: chardet>=3.0.4 in /usr/local/lib/python3.10/dist-packages (from camelot-py[base]) (5.2.0)\n",
            "Requirement already satisfied: click>=6.7 in /usr/local/lib/python3.10/dist-packages (from camelot-py[base]) (8.1.7)\n",
            "Requirement already satisfied: numpy>=1.13.3 in /usr/local/lib/python3.10/dist-packages (from camelot-py[base]) (1.26.4)\n",
            "Requirement already satisfied: openpyxl>=2.5.8 in /usr/local/lib/python3.10/dist-packages (from camelot-py[base]) (3.1.5)\n",
            "Requirement already satisfied: pandas>=0.23.4 in /usr/local/lib/python3.10/dist-packages (from camelot-py[base]) (2.2.2)\n",
            "Collecting pdfminer.six>=20200726 (from camelot-py[base])\n",
            "  Downloading pdfminer.six-20240706-py3-none-any.whl.metadata (4.1 kB)\n",
            "Collecting pypdf>=3.0.0 (from camelot-py[base])\n",
            "  Downloading pypdf-5.1.0-py3-none-any.whl.metadata (7.2 kB)\n",
            "Requirement already satisfied: tabulate>=0.8.9 in /usr/local/lib/python3.10/dist-packages (from camelot-py[base]) (0.9.0)\n",
            "Collecting ghostscript>=0.7 (from camelot-py[base])\n",
            "  Downloading ghostscript-0.7-py2.py3-none-any.whl.metadata (4.4 kB)\n",
            "Requirement already satisfied: opencv-python>=3.4.2.17 in /usr/local/lib/python3.10/dist-packages (from camelot-py[base]) (4.10.0.84)\n",
            "INFO: pip is looking at multiple versions of camelot-py[base] to determine which version is compatible with other requirements. This could take a while.\n",
            "Collecting camelot-py[base]\n",
            "  Downloading camelot_py-0.10.1-py3-none-any.whl.metadata (8.3 kB)\n",
            "Requirement already satisfied: PyPDF2>=1.26.0 in /usr/local/lib/python3.10/dist-packages (from camelot-py[base]) (3.0.1)\n",
            "  Downloading camelot_py-0.10.0-py3-none-any.whl.metadata (8.3 kB)\n",
            "  Downloading camelot_py-0.9.0-py3-none-any.whl.metadata (7.5 kB)\n",
            "\u001b[33mWARNING: camelot-py 0.9.0 does not provide the extra 'base'\u001b[0m\u001b[33m\n",
            "\u001b[0mRequirement already satisfied: et-xmlfile in /usr/local/lib/python3.10/dist-packages (from openpyxl>=2.5.8->camelot-py[base]) (2.0.0)\n",
            "Requirement already satisfied: python-dateutil>=2.8.2 in /usr/local/lib/python3.10/dist-packages (from pandas>=0.23.4->camelot-py[base]) (2.8.2)\n",
            "Requirement already satisfied: pytz>=2020.1 in /usr/local/lib/python3.10/dist-packages (from pandas>=0.23.4->camelot-py[base]) (2024.2)\n",
            "Requirement already satisfied: tzdata>=2022.7 in /usr/local/lib/python3.10/dist-packages (from pandas>=0.23.4->camelot-py[base]) (2024.2)\n",
            "Requirement already satisfied: charset-normalizer>=2.0.0 in /usr/local/lib/python3.10/dist-packages (from pdfminer.six>=20200726->camelot-py[base]) (3.4.0)\n",
            "Requirement already satisfied: cryptography>=36.0.0 in /usr/local/lib/python3.10/dist-packages (from pdfminer.six>=20200726->camelot-py[base]) (43.0.3)\n",
            "Requirement already satisfied: cffi>=1.12 in /usr/local/lib/python3.10/dist-packages (from cryptography>=36.0.0->pdfminer.six>=20200726->camelot-py[base]) (1.17.1)\n",
            "Requirement already satisfied: six>=1.5 in /usr/local/lib/python3.10/dist-packages (from python-dateutil>=2.8.2->pandas>=0.23.4->camelot-py[base]) (1.16.0)\n",
            "Requirement already satisfied: pycparser in /usr/local/lib/python3.10/dist-packages (from cffi>=1.12->cryptography>=36.0.0->pdfminer.six>=20200726->camelot-py[base]) (2.22)\n",
            "Downloading pdfminer.six-20240706-py3-none-any.whl (5.6 MB)\n",
            "\u001b[2K   \u001b[90m━━━━━━━━━━━━━━━━━━━━━━━━━━━━━━━━━━━━━━━━\u001b[0m \u001b[32m5.6/5.6 MB\u001b[0m \u001b[31m42.0 MB/s\u001b[0m eta \u001b[36m0:00:00\u001b[0m\n",
            "\u001b[?25hDownloading camelot_py-0.9.0-py3-none-any.whl (43 kB)\n",
            "\u001b[2K   \u001b[90m━━━━━━━━━━━━━━━━━━━━━━━━━━━━━━━━━━━━━━━━\u001b[0m \u001b[32m43.2/43.2 kB\u001b[0m \u001b[31m3.9 MB/s\u001b[0m eta \u001b[36m0:00:00\u001b[0m\n",
            "\u001b[?25hInstalling collected packages: pdfminer.six, camelot-py\n",
            "Successfully installed camelot-py-0.9.0 pdfminer.six-20240706\n",
            "Requirement already satisfied: PyPDF2 in /usr/local/lib/python3.10/dist-packages (3.0.1)\n"
          ]
        }
      ],
      "source": [
        "!pip install langchain-community\n",
        "!pip install tiktoken\n",
        "!pip install faiss-cpu\n",
        "!pip install PyPDF2  # Install PyPDF2 for PDF handling\n",
        "!pip install camelot-py[base] # Install camelot for tabular data extraction\n",
        "!pip install PyPDF2"
      ]
    },
    {
      "source": [
        "import PyPDF2\n",
        "\n",
        "# Function to extract text from a PDF file\n",
        "def extract_text_from_pdf(file_path):\n",
        "    with open(file_path, 'rb') as file:\n",
        "        reader = PyPDF2.PdfReader(file)\n",
        "        text = ''\n",
        "        for page in reader.pages:\n",
        "            text += page.extract_text() + '\\n'\n",
        "    return text\n",
        "\n",
        "# Extract text from the available PDF files\n",
        "bank_rakyat = extract_text_from_pdf('/content/PDS+-+Takaful+Amani+Plus+(ENG).pdf')\n",
        "rhb = extract_text_from_pdf('/content/Rahmah_PDS.pdf')\n",
        "hong_leong = extract_text_from_pdf('/content/hlb-smart-protect-plus-insurance-brochure-bm.pdf')"
      ],
      "cell_type": "code",
      "metadata": {
        "id": "zwYN8Jtp5RiI"
      },
      "execution_count": 2,
      "outputs": []
    },
    {
      "cell_type": "code",
      "source": [
        "import re\n",
        "\n",
        "# Function to split text into chunks\n",
        "def split_text_into_chunks(text, chunk_size=500):\n",
        "    # Split text into words\n",
        "    words = re.findall(r'\\S+', text)\n",
        "    # Create chunks\n",
        "    chunks = [' '.join(words[i:i + chunk_size]) for i in range(0, len(words), chunk_size)]\n",
        "    return chunks\n",
        "\n",
        "# Use the extracted text from the PDFs\n",
        "texts = [bank_rakyat,rhb, hong_leong]\n",
        "\n",
        "# Split each text into chunks\n",
        "chunks = []\n",
        "for text in texts:\n",
        "    chunks.extend(split_text_into_chunks(text))\n",
        "\n",
        "# Display the first few chunks to verify\n",
        "chunks[:5]"
      ],
      "metadata": {
        "colab": {
          "base_uri": "https://localhost:8080/"
        },
        "id": "GDLjXZra7k99",
        "outputId": "a2a21c27-d507-4668-da48-388404e5285f"
      },
      "execution_count": 3,
      "outputs": [
        {
          "output_type": "execute_result",
          "data": {
            "text/plain": [
              "['1 TAKAFUL AMANI PLUS (GTT) _PDS (ENG) _v0.14 PRODUCT DISCLOSURE SHEET (Read this Product Disclosure Sheet before you decide to participate in the Takaful Amani Plus . Be sure to also read the general terms and conditions.) PRODUCT: TAKAFUL AMANI PLUS UNDERWRITTEN BY: TAKAFUL IKHLAS FAMILY BERHAD Licensed under Islamic Financial Services Act 2013 and regulated by Bank Negara Malaysia Date : 29/11/2019 1) What is this product about? This plan is introduced by Bank Rakyat exclusively for the bank’s customers to provide financial security in the event of death / disability due to natural causes . This is a yearly renewable Group Term Takaful (GTT) product with 3 plans choices . 2) What are the Shariah concepts applicable? Wakalah Refers to a contract where a party, as principal (muwakkil) authorizes another party as his agent ( wakil ) to perform a particular task on matters that may be delegated, with or without imposition of a fee. In the context of the Company , we are appointed as an agent ( wakil ) to carry out the Takaful Business and a Wakalah fee (Ujrah) to be paid to the Company. Tabarru’ Shall mean donation for the purpose of solidarity and cooperation among the Takaful Participants and to be used to help Takaful Participants in times of misfortune. In the context of the Company , Tabarru’ will be allocated into the Risk Fund. 3) What are the Takaful cover age / benefits provided? 1. There are 3 plan s and the options are follows: TAKAFUL BENEFITS PLAN A (RM) PLAN B (RM) PLAN C(RM) GTT Death / T otal and Permanent Disability (TPD) due to natural causes 30,000 20,000 10,000 Critical Illness (Accelerated benefit) 15,000 10,000 5,000 Immediate Death Expenses due to natural causes 3,000 2,000 1,000 Badal Haj j (if death is due to natural causes ) 1,500 1,500 1,500 2. Below are the description of the above benefits covered: TAKAFUL BENEFITS DESCRIPTION Death/ TPD due to natural causes In the event of TPD or upon death of the Person Covered due to natural causes, the sum covered is payable to the Master Takaful Certificate Holder. Critical Illness Accelerated \\uf0b7 In the event of the Person Covered is diagnosed to have suffered from any of the covered Critical Illness as defined in the Master Takaful Certificate contract, the sum covered is payable to the Master Takaful Certificate Holder. \\uf0b7 The Sum Covered of the Mas ter Takaful Certificate will then be reduced, by the amount of payment made under this Master Takaful Certificate. Immediate Death Expense s due to Natural Causes In the event of death of the Person Covered, the Company shall pay the benefits specified in the Master Takaful Certificate, upon receipt of satisfactory proof. Badal Haj j (if death is due to Natural Causes) In the event of death of the Person Covered, the Company shall pay the Badal Haji benefit to the nominee. For non -Muslims, this benefit will be paid on top of the Immediate',\n",
              " \"Death Expense benefit. 3. The list of 36 critical illness covered are as below: List of 36 Critical Illnesses 1 Stroke – resulting in permanent neurological deficit with persisting clinical symptoms 19 Major Organ / Bone Marrow Transplant 2 TAKAFUL AMANI PLUS (GTT) _PDS (ENG) _v0.14 2 Heart Attack – of specified severity 20 Loss of Speech 3 Kidney Failure – requiring dialysis or kidney transplant 21 Brain Surgery 4 Cancer – of specified severity and does not cover very early cancers 22 Heart Valve Surgery 5 Coronary Artery By -Pass Surgery 23 Loss of Independent Existence 6 Serious Coronary Artery Disease 24 Bacterial Meningitis - resulting in permanent inability to perform Activities of Daily Living 7 Angioplasty and other invasive treatments for coronary artery disease 25 Major Head Trauma - resulting in permanent inability to perform Activities of Daily Living 8 End-Stage Liver Failure 26 Chronic Aplastic Anemia - resulting in permanent Bone Marrow Failure 9 Fulminant Viral Hepatitis 27 Motor Neuron Disease – permanent neurological deficit with persisting clinical symptoms 10 Coma – resulting in permanent neurological deficit with persisting clinical symptoms 28 Parkinson's Disease – resulting in permanent inability to perform Activities of Daily Living 11 Benign Brain Tumor – of specified severity 29 Alzheimer's Disease/Severe Dementia 12 Paralysis of limbs 30 Muscular Dystrophy 13 Blindness – Permanent and Irreversible 31 Surgery to Aorta 14 Deafness – Permanent and Irreversible 32 Multiple Sclerosis 15 Third Degree Burns – of specified severity 33 Primary Pulmonary Arterial Hypertension – of specified severity 16 HIV Infection Due To Blood Transfusion 34 Medullary Cystic Disease 17 End-Stage Lung Disease 35 Cardiomyopathy – of specified severity 18 Encephalitis – resulting in permanent inability to perform Activities of Daily Living 36 Systemic Lupus Erythematosus With Severe Kidney Complications Note: Please read the Master Takaful Certificate for details of the takaful benefits. 4) How much Takaful Contribution do I have to pay? The total Gross Takaful Contribution that you have to pay may vary based on the choice of plans as stated below: Plans PLAN A PLAN B PLAN C Total Annual Takaful Contribution RM101.00 RM 6 9.00 RM 3 7.00 5) What are the fees and charges that I have to pay? The following charges are applicable: Types GTT Wakalah Fees \\uf0b7 Commissions \\uf0b7 Management Expenses 50% of Takaful Contribution \\uf0b7 10% of Takaful Contribution \\uf0b7 40% Takaful Contribution Stamp Duty RM10.00 Tax Applicable taxes are chargeable at the prevailing rates , if any. 6) What are some of the key terms and conditions that I should be aware of? a) Importance of disclosure – you must disclose all material facts such as your age, occupation and health condition correctly. The Company has the right to repudiate liability in the event that you failed to disclose relevant information that would affect th e decision to accept or reject the risk, and on the terms to be applied to you. b) Cooling -Off Period (Right of Cancellation) - Within fifteen (15) days from the\",\n",
              " 'date of receipt of the Individual Takaful Certificate , you may return this Individual Takaful Certificate to the Company and the Company shall cancel it immediately upon receipt and refund the Takaful Contribution less any medical expenses (medical underwriting will be applicable for age sixty (60) years and above only) incurred by the Company . Onc e the Individual Takaful 3 TAKAFUL AMANI PLUS (GTT) _PDS (ENG) _v0.14 Certificate is returned to the Company and cancelled by the Company it shall be deemed not effective from the date of issue. c) It is important for you to receive receipts and keep them as proof of payment of Takaful Contributions. d) If you do not receive the Takaful Certificate after fourteen (14) days from the date of participation, please contact us. e) Notification of claim must be given in writing to the Company within thirty (30) days after occurrence of any claim. The Company , upon receipt of notice of claim, will furnish to the claimant appropriate forms for filing proof of claim and shall notify the claimant of any other requirements. This shall not preclude the Company from requiring further documentation in respect of the loss as deemed fit by the Company . All such information and evidence must be furnished to the Company within ninety (90) days from the date of the events covered. Note: This list is non -exhaustive. Please refer to the Master Takaful Certificate for the terms and conditions under this Takaful Certificate. 7) What are the major exclusions under the Takaful Certificate ? a. Exclusions on Death due to Natural Causes No benefit shall be payable under this Master Takaful Certificate should the Person Covered dies directly or indirectly by any of the following events: i. commit suicide, whether sane or insane; or ii. as a result of Acquired Immune Deficiency Syndrome (AIDS) or other sexually transmitted diseases; or iii. pre-existing conditions. b. Exclusions on CI This Takaful Certificate does not cover any CI caused directly or indirectly, wholly or partly, by any one of the following occurrences: i. War, invasion, act of foreign enemy, hostilities or war -like operations (whether war be declared or not) or civil war; or ii. Mutiny, riot, military or popular rising, insurrection, rebellion, revolution, martial law or state of siege any of the events or causes which determine the proclamation or maintenance of martial law or state of siege; or iii. Any pre -existing conditions arising prior to inception of coverage. Note: This list is non -exhaustive. Please refer to the Master Takaful Certificate for the full list of exclusions. 8) Can I cancel my Takaful Certificate ? You may cancel the Master Takaful Certificate by submitting a written notice to us. Upon cancellation, you shall receive the surrender benefit equivalent to unearned takaful contribution. No refund of Takaful Contribution is allowed if there is a claim under the Master Takaful Certificate. 9) What do I need to do if there are changes to my contact details? It is',\n",
              " 'important that you inform Bank Rakyat of any changes in your contact details to ensure that all correspondences reach you in a timely manner. 10) Where can I get further information? Should you require additional information about family takaful please refer to the insuranceinfo booklet on ‘Family Takaful’ . You can obtain a copy from www.insuranceinfo.com.my Should you require additional information about Takaful Amani Plus please contact us at: Takaful Ikhlas Family Berhad Customer Relationship Management Department, IKHLAS Point, Tower 11A, Avenue 5,Bangsar South, 4 TAKAFUL AMANI PLUS (GTT) _PDS (ENG) _v0.14 No. 8 Jalan Kerinchi, 59200 Kuala Lumpur. Tel: 03 -2723 9696 Fax : 03 -2723 9998 Website: www.takaful -ikhlas.com.my E-mail: ikhlascare@takaful -ikhlas.com.my 11) Other types of similar family takaful cover available. Please contact the nearest Bank Rakyat branches for further information IMPORTANT NOTE: YOU ARE ADVISED TO NOTE THE SCALE OF BENEFIT FOR DEATH AND PERMANENT DISABLEMENT IN YOUR TAKAFUL CERTIFICATE. YOU MUST NOMINATE A NOMINEE AND ENSURE THAT YOUR NOMINEE IS AWARE OF THE PERSONAL ACCIDENT TAKAFUL CERTIFICATE THAT YOU HAVE PARTICIPATED IN. YOU SHOULD READ AND UNDERSTAND THE TAKAFUL CERTIFICATE AND DISCUSS WITH THE AGENT OR CONTACT THE TAKAFUL OPERATOR DIRECTLY FOR MORE INFORMATION. PURSUANT TO PARAGRAP H 5 OF SCHEDULE 9 OF THE ISLAMIC FINANCIAL SE RVICES ACT 2013, IF YOU ARE APPLYING FOR THIS TA KAFUL PRODUCT WHOLLY FOR PURPOSES UNRELAT ED TO YOUR TRADE, BU SINESS OR PROFESSION, YOU HAVE A DUTY TO TAKE REASO NABLE CARE NOT TO MA KE A MISREPRESENTATI ON IN ANSWERING THE QUESTI ONS IN THE PROPOSAL FORM (OR WH EN YOU APPLY FOR THI S PRODUCT). YOU MUST ANSWER THE QUESTION S FULLY AND ACCURATELY . FAILURE TO TAKE REAS ONABLE CARE IN ANSWE RING THE QUESTION MA Y RESULT IN VOIDANCE OF YOUR CONTRACT OF TAKAFUL, REFUSAL OR REDUCTION OF YOUR CL AIM(S), C HANGE OF TERMS OR TE RMINATION OF YOUR CONTRACT OF TAKAFUL. THE ABOVE DUTY OF DI SCLOSURE SHALL CONTI NUE UNTIL THE TIME Y OUR CONTRACT OF TAKAFUL IS ENTERED INTO, VARIED OR RENE WED WITH US. IN ADDITION TO ANSWE RING THE QUESTIONS I N THE PROPOSAL FORM (OR WHE N YOU APPLY FOR THIS PRODUCT), YOU ARE RE QUIRED TO DISCLOSE A NY OTHER MATTER THAT YOU KNOW TO BE RELEV ANT TO OUR DECISION IN ACCEPTIN G THE RISKS AND DETE RMINING THE RATES AN D TERMS TO BE APPLIE D. YOU ALSO HAVE A DUTY TO TELL US IMMEDIATE LY IF AT ANY TIM E AFTER YOUR CONTRACT OF TAKAFUL HAS BEEN ENTERED INTO, V ARIED OR RENEWED WIT H US ANY OF THE INFO RMATION GIVEN IN THE PROPOSAL FORM (OR WHEN YOU APPLIED FOR THIS PRODUCT ) IS INACCURATE OR H AS CHANGED. The information provided in this Product Disclosure Sheet is valid as at 29/11/2019. 1 TAKAFUL AMANI PLUS (GPA) _enhance_ PDS (ENG)_ 0324_v2.0_website PRODUCT DISCLOSURE SHEET (Read this Product Disclosure Sheet before you decide to participate in the Takaful Amani Plus . Be sure',\n",
              " 'to also read the general terms and conditions of this Takaful Certificate .) PRODUCT: TAKAFUL AMANI PLUS UNDERWRITTEN BY: TAKAFUL IKHLAS GENERAL BERHAD (Member of PIDM) Licensed under Islamic Financial Services Act 2013 and regulated by Bank Negara Malaysia Date : 1) What is this product about? This plan is introduced by Bank Kerjasama Rakyat Malaysia Berhad (Bank Rakyat) exclusively for the bank’s customers to provide financial security in the event of death / disability due to accident al losses at anytime and anywhere in the world. Accidental losses refer to compensation in the event of injuries, disability or death caused solely by violent, accidental, external and visible events. The disaster must be solely caused by accident , subject to the exclusions. This is a yearly renewable Group Personal Accident (GPA) Takaful product with 3 plan choices. 2) What are the Shariah concepts applicable? Wakalah Refers to a contract where a party, as principal (muwakkil) authorizes another party as his agent (wakil) to perform a particular task on matters that may be delegated, with or without imposition of a fee. In the context of the Company, we are appointed as an agent ( wakil ) to carry out the Takaful Business and a Wakalah fee (Ujrah) to be paid to the Company. Tabarru’ Shall mean donation for the purpose of solidarity and cooperation among the Takaful Participants and to be used to help all Takaful Participants in times of misfortune. In the context of the Company, Tabarru’ will be allocated into the Participants’ Risk Fund. Note : “the Company” refers to Takaful Ikhlas General Berhad 3) What are the Takaful coverages / benefits provided? a) There are 3 plans and the options are as follows: TAKAFUL BENEFITS PLAN A (RM) PLAN B (RM) PLAN C(RM) 1. Death 150,000 100,000 50,000 2. Permanent Disablement 150,000 100,000 50,000 3. Double Indemnity upon Death / Total Permanent Disablement while in Public Transport 300,000 200,000 100,000 4. Double Indemnity upon Death / Total Permanent Disablement while Performing Hajj or Umrah 300,000 200,000 100,000 5. Purchase of Orthopaedic Equipment 1,500 1,000 500 6. Funeral Expense 6,000 4,000 2,000 7. Badal Hajj / Waqf 1,500 1,500 1,500 8. Medical Expenses (Limit for 1 year) 6,000 4,000 2,000 9. Snatch Theft 400 300 200 10. Ambulance Fee (Limit for 1 year) 600 400 200 11. Hospital Allowance (min 2 days, max 30 days) 150/day 100/day 50/day 2 TAKAFUL AMANI PLUS (GPA) _enhance_ PDS (ENG)_ 0324_v2.0_website b) Below is the description of the above Takaful benefits covered: TAKAFUL BENEFITS DESCRIPTION Accidental Death/ Permanent Disablement Death or permanent disablement of the Person Covered due to solely and directly from accidental external violent and visible means (including as the direct result of exposure to the elements) and does not include sickness, disease, parasite, bacterial or v iral infection or any naturally occurring condition or degenerative process; within twelve (12) calendar months of the event. Double Indemnity upon Death / Total Permanent Disablement while in Public Transport In the event of']"
            ]
          },
          "metadata": {},
          "execution_count": 3
        }
      ]
    },
    {
      "source": [
        "from langchain.document_loaders import TextLoader\n",
        "from langchain.embeddings.openai import OpenAIEmbeddings\n",
        "from langchain.text_splitter import CharacterTextSplitter\n",
        "from langchain.vectorstores import FAISS\n",
        "from langchain.docstore.document import Document # Import Document class\n",
        "from dotenv import load_dotenv\n",
        "import os\n",
        "\n",
        "load_dotenv()\n",
        "\n",
        "os.environ[\"OPENAI_API_KEY\"] = '#'\n",
        "\n",
        "# Convert chunks (strings) to Document objects\n",
        "documents = [Document(page_content=chunk) for chunk in chunks]\n",
        "\n",
        "# Load the document, split it into chunks, embed each chunk and load it into the vector store.\n",
        "# Insert question & answer csv file\n",
        "db = FAISS.from_documents(documents, OpenAIEmbeddings()) # Use documents instead of chunks"
      ],
      "cell_type": "code",
      "metadata": {
        "colab": {
          "base_uri": "https://localhost:8080/"
        },
        "id": "mL9WPGu-9yiM",
        "outputId": "02739c52-7797-4d43-f1b0-adf7e5b1b380"
      },
      "execution_count": 4,
      "outputs": [
        {
          "output_type": "stream",
          "name": "stderr",
          "text": [
            "<ipython-input-4-97e9673af94a>:18: LangChainDeprecationWarning: The class `OpenAIEmbeddings` was deprecated in LangChain 0.0.9 and will be removed in 1.0. An updated version of the class exists in the :class:`~langchain-openai package and should be used instead. To use it run `pip install -U :class:`~langchain-openai` and import as `from :class:`~langchain_openai import OpenAIEmbeddings``.\n",
            "  db = FAISS.from_documents(documents, OpenAIEmbeddings()) # Use documents instead of chunks\n"
          ]
        }
      ]
    },
    {
      "cell_type": "code",
      "source": [
        "query = \"The total Gross Takaful Contribution that you have to pay may vary based on the choice of plans as stated below: Plans PLAN A PLAN B PLAN C Total Annual Takaful Contribution RM101.00 RM 6 9.00 RM 3 7.00\"\n",
        "docs = db.similarity_search(query)\n",
        "print(docs[0].page_content)"
      ],
      "metadata": {
        "colab": {
          "base_uri": "https://localhost:8080/"
        },
        "id": "n5M1EvqL-Kxy",
        "outputId": "e576a970-f3a8-4c74-d3cc-b3294b2a4585"
      },
      "execution_count": 5,
      "outputs": [
        {
          "output_type": "stream",
          "name": "stdout",
          "text": [
            "Death Expense benefit. 3. The list of 36 critical illness covered are as below: List of 36 Critical Illnesses 1 Stroke – resulting in permanent neurological deficit with persisting clinical symptoms 19 Major Organ / Bone Marrow Transplant 2 TAKAFUL AMANI PLUS (GTT) _PDS (ENG) _v0.14 2 Heart Attack – of specified severity 20 Loss of Speech 3 Kidney Failure – requiring dialysis or kidney transplant 21 Brain Surgery 4 Cancer – of specified severity and does not cover very early cancers 22 Heart Valve Surgery 5 Coronary Artery By -Pass Surgery 23 Loss of Independent Existence 6 Serious Coronary Artery Disease 24 Bacterial Meningitis - resulting in permanent inability to perform Activities of Daily Living 7 Angioplasty and other invasive treatments for coronary artery disease 25 Major Head Trauma - resulting in permanent inability to perform Activities of Daily Living 8 End-Stage Liver Failure 26 Chronic Aplastic Anemia - resulting in permanent Bone Marrow Failure 9 Fulminant Viral Hepatitis 27 Motor Neuron Disease – permanent neurological deficit with persisting clinical symptoms 10 Coma – resulting in permanent neurological deficit with persisting clinical symptoms 28 Parkinson's Disease – resulting in permanent inability to perform Activities of Daily Living 11 Benign Brain Tumor – of specified severity 29 Alzheimer's Disease/Severe Dementia 12 Paralysis of limbs 30 Muscular Dystrophy 13 Blindness – Permanent and Irreversible 31 Surgery to Aorta 14 Deafness – Permanent and Irreversible 32 Multiple Sclerosis 15 Third Degree Burns – of specified severity 33 Primary Pulmonary Arterial Hypertension – of specified severity 16 HIV Infection Due To Blood Transfusion 34 Medullary Cystic Disease 17 End-Stage Lung Disease 35 Cardiomyopathy – of specified severity 18 Encephalitis – resulting in permanent inability to perform Activities of Daily Living 36 Systemic Lupus Erythematosus With Severe Kidney Complications Note: Please read the Master Takaful Certificate for details of the takaful benefits. 4) How much Takaful Contribution do I have to pay? The total Gross Takaful Contribution that you have to pay may vary based on the choice of plans as stated below: Plans PLAN A PLAN B PLAN C Total Annual Takaful Contribution RM101.00 RM 6 9.00 RM 3 7.00 5) What are the fees and charges that I have to pay? The following charges are applicable: Types GTT Wakalah Fees  Commissions  Management Expenses 50% of Takaful Contribution  10% of Takaful Contribution  40% Takaful Contribution Stamp Duty RM10.00 Tax Applicable taxes are chargeable at the prevailing rates , if any. 6) What are some of the key terms and conditions that I should be aware of? a) Importance of disclosure – you must disclose all material facts such as your age, occupation and health condition correctly. The Company has the right to repudiate liability in the event that you failed to disclose relevant information that would affect th e decision to accept or reject the risk, and on the terms to be applied to you. b) Cooling -Off Period (Right of Cancellation) - Within fifteen (15) days from the\n"
          ]
        }
      ]
    },
    {
      "cell_type": "code",
      "source": [
        "print(documents[1])"
      ],
      "metadata": {
        "colab": {
          "base_uri": "https://localhost:8080/"
        },
        "id": "8bVxLFTz-ofy",
        "outputId": "2016f762-cd44-49c7-b9f1-25c6d5352f11"
      },
      "execution_count": 6,
      "outputs": [
        {
          "output_type": "stream",
          "name": "stdout",
          "text": [
            "page_content='Death Expense benefit. 3. The list of 36 critical illness covered are as below: List of 36 Critical Illnesses 1 Stroke – resulting in permanent neurological deficit with persisting clinical symptoms 19 Major Organ / Bone Marrow Transplant 2 TAKAFUL AMANI PLUS (GTT) _PDS (ENG) _v0.14 2 Heart Attack – of specified severity 20 Loss of Speech 3 Kidney Failure – requiring dialysis or kidney transplant 21 Brain Surgery 4 Cancer – of specified severity and does not cover very early cancers 22 Heart Valve Surgery 5 Coronary Artery By -Pass Surgery 23 Loss of Independent Existence 6 Serious Coronary Artery Disease 24 Bacterial Meningitis - resulting in permanent inability to perform Activities of Daily Living 7 Angioplasty and other invasive treatments for coronary artery disease 25 Major Head Trauma - resulting in permanent inability to perform Activities of Daily Living 8 End-Stage Liver Failure 26 Chronic Aplastic Anemia - resulting in permanent Bone Marrow Failure 9 Fulminant Viral Hepatitis 27 Motor Neuron Disease – permanent neurological deficit with persisting clinical symptoms 10 Coma – resulting in permanent neurological deficit with persisting clinical symptoms 28 Parkinson's Disease – resulting in permanent inability to perform Activities of Daily Living 11 Benign Brain Tumor – of specified severity 29 Alzheimer's Disease/Severe Dementia 12 Paralysis of limbs 30 Muscular Dystrophy 13 Blindness – Permanent and Irreversible 31 Surgery to Aorta 14 Deafness – Permanent and Irreversible 32 Multiple Sclerosis 15 Third Degree Burns – of specified severity 33 Primary Pulmonary Arterial Hypertension – of specified severity 16 HIV Infection Due To Blood Transfusion 34 Medullary Cystic Disease 17 End-Stage Lung Disease 35 Cardiomyopathy – of specified severity 18 Encephalitis – resulting in permanent inability to perform Activities of Daily Living 36 Systemic Lupus Erythematosus With Severe Kidney Complications Note: Please read the Master Takaful Certificate for details of the takaful benefits. 4) How much Takaful Contribution do I have to pay? The total Gross Takaful Contribution that you have to pay may vary based on the choice of plans as stated below: Plans PLAN A PLAN B PLAN C Total Annual Takaful Contribution RM101.00 RM 6 9.00 RM 3 7.00 5) What are the fees and charges that I have to pay? The following charges are applicable: Types GTT Wakalah Fees  Commissions  Management Expenses 50% of Takaful Contribution  10% of Takaful Contribution  40% Takaful Contribution Stamp Duty RM10.00 Tax Applicable taxes are chargeable at the prevailing rates , if any. 6) What are some of the key terms and conditions that I should be aware of? a) Importance of disclosure – you must disclose all material facts such as your age, occupation and health condition correctly. The Company has the right to repudiate liability in the event that you failed to disclose relevant information that would affect th e decision to accept or reject the risk, and on the terms to be applied to you. b) Cooling -Off Period (Right of Cancellation) - Within fifteen (15) days from the'\n"
          ]
        }
      ]
    },
    {
      "cell_type": "code",
      "source": [
        "from langchain.chains import RetrievalQA\n",
        "from langchain.llms import OpenAI\n",
        "from langchain.chains.llm import LLMChain # Import LLMChain\n",
        "from langchain.prompts import PromptTemplate # Import PromptTemplate\n",
        "\n",
        "retriever = db.as_retriever()\n",
        "\n",
        "# Create a custom prompt template with a reduced context window\n",
        "template = \"\"\"Use the following pieces of context to answer the question at the end. If you don't know the answer, just say that you don't know, don't try to make up an answer.\n",
        "\n",
        "{context}\n",
        "\n",
        "Question: {question}\n",
        "Answer:\"\"\"\n",
        "PROMPT = PromptTemplate(\n",
        "    template=template, input_variables=[\"context\", \"question\"]\n",
        ")\n",
        "llm_chain = LLMChain(llm=OpenAI(temperature=0), prompt=PROMPT) # Chain with custom prompt"
      ],
      "metadata": {
        "colab": {
          "base_uri": "https://localhost:8080/"
        },
        "id": "gSDnJid9_4DI",
        "outputId": "27ea481d-ef5a-4190-c3b8-0d5410cba7e5"
      },
      "execution_count": 9,
      "outputs": [
        {
          "output_type": "stream",
          "name": "stderr",
          "text": [
            "<ipython-input-9-54932caa22e7>:18: LangChainDeprecationWarning: The class `LLMChain` was deprecated in LangChain 0.1.17 and will be removed in 1.0. Use :meth:`~RunnableSequence, e.g., `prompt | llm`` instead.\n",
            "  llm_chain = LLMChain(llm=OpenAI(temperature=0), prompt=PROMPT) # Chain with custom prompt\n"
          ]
        }
      ]
    },
    {
      "cell_type": "code",
      "source": [
        "qa = RetrievalQA.from_chain_type(llm=OpenAI(), chain_type=\"stuff\", retriever=retriever)\n",
        "\n",
        "query = \"Which insurance package price plan from 3 banks mention is recommended for individuals with a monthly income between RM3,500 and RM4,500?\"\n",
        "qa.run(query)"
      ],
      "metadata": {
        "colab": {
          "base_uri": "https://localhost:8080/",
          "height": 87
        },
        "id": "FY_x5IVxAB88",
        "outputId": "088e5bde-3728-4927-c026-7c439b1a3213"
      },
      "execution_count": 14,
      "outputs": [
        {
          "output_type": "execute_result",
          "data": {
            "text/plain": [
              "'\\nBased on the information provided, it appears that the recommended insurance package price plan for individuals with a monthly income between RM3,500 and RM4,500 is the RHB Insurance Berhad Rahmah PA Insurance. This plan provides coverage for death, permanent disablement, and daily hospital cash income, with a minimum entry age of 16 years old and a maximum age of 65 years old. '"
            ],
            "application/vnd.google.colaboratory.intrinsic+json": {
              "type": "string"
            }
          },
          "metadata": {},
          "execution_count": 14
        }
      ]
    },
    {
      "cell_type": "markdown",
      "source": [
        "\n",
        "Based on the information provided, it appears that the recommended insurance package price plan for individuals with a monthly income between RM3,500 and RM4,500 is the RHB Insurance Berhad Rahmah PA Insurance. This plan provides coverage for death, permanent disablement, and daily hospital cash income, with a minimum entry age of 16 years old and a maximum age of 65 years old."
      ],
      "metadata": {
        "id": "IS21VqsIAbNj"
      }
    },
    {
      "cell_type": "code",
      "source": [
        "query = \"How much monthly payment for the RHB Insurance Berhad Rahmah PA Insurance?\"\n",
        "qa.run(query)"
      ],
      "metadata": {
        "colab": {
          "base_uri": "https://localhost:8080/",
          "height": 87
        },
        "id": "V4PqXSycBGYI",
        "outputId": "08a9e7bf-4d52-4d4a-b941-1169b11ac49b"
      },
      "execution_count": 15,
      "outputs": [
        {
          "output_type": "execute_result",
          "data": {
            "text/plain": [
              "' The monthly payment for the RHB Insurance Berhad Rahmah PA Insurance varies depending on the plan chosen. The annual premium for Plan 1 is RM9.90, while the annual premium for Plan 2 is RM25.00. The monthly payment would be calculated by dividing the annual premium by 12. Therefore, for Plan 1, the monthly payment would be approximately RM0.83, and for Plan 2, it would be approximately RM2.08.'"
            ],
            "application/vnd.google.colaboratory.intrinsic+json": {
              "type": "string"
            }
          },
          "metadata": {},
          "execution_count": 15
        }
      ]
    },
    {
      "cell_type": "code",
      "source": [
        "query = \"What is the maximum age for approval?\"\n",
        "qa.run(query)"
      ],
      "metadata": {
        "colab": {
          "base_uri": "https://localhost:8080/",
          "height": 35
        },
        "id": "c9qkYG7GBVtA",
        "outputId": "6efeddbc-2628-4cdc-8a3f-304e67382c24"
      },
      "execution_count": 16,
      "outputs": [
        {
          "output_type": "execute_result",
          "data": {
            "text/plain": [
              "' The maximum age for approval is 60 years old (age on next birthday).'"
            ],
            "application/vnd.google.colaboratory.intrinsic+json": {
              "type": "string"
            }
          },
          "metadata": {},
          "execution_count": 16
        }
      ]
    },
    {
      "cell_type": "code",
      "source": [
        "query = \"What are the career requirements to be eligible for this insurance?\"\n",
        "qa.run(query)"
      ],
      "metadata": {
        "colab": {
          "base_uri": "https://localhost:8080/",
          "height": 53
        },
        "id": "_0FMpfvWBptG",
        "outputId": "8aa4aa1b-d94e-4ad0-fd01-75935c02a83a"
      },
      "execution_count": 17,
      "outputs": [
        {
          "output_type": "execute_result",
          "data": {
            "text/plain": [
              "' The policy does not specify any career requirements for eligibility. The only requirement mentioned is that the insured person must be at least 16 years old and not more than 65 years old. '"
            ],
            "application/vnd.google.colaboratory.intrinsic+json": {
              "type": "string"
            }
          },
          "metadata": {},
          "execution_count": 17
        }
      ]
    },
    {
      "cell_type": "code",
      "source": [
        "query = \"For each insurance plan offered by Bank Rakyat, RHB, and Hong Leong, provide a summary of the coverage benefits and their associated costs or premiums\"\n",
        "qa.run(query)"
      ],
      "metadata": {
        "colab": {
          "base_uri": "https://localhost:8080/",
          "height": 174
        },
        "id": "j6BwqRGKB6la",
        "outputId": "75a19eff-31f0-496b-eb08-8aafc9077e6f"
      },
      "execution_count": 18,
      "outputs": [
        {
          "output_type": "execute_result",
          "data": {
            "text/plain": [
              "' Bank Rakyat:\\n1. Personal Accident Takaful Plan\\n- Provides coverage for accidental death, permanent disability, and hospitalization expenses due to accidents\\n- Minimum entry age of 18 years old up to 60 years old\\n- Premiums start from RM10 per annum\\n\\n2. Homeowner Takaful Plan\\n- Provides coverage for loss or damage to your home and its contents due to fire, flood, or theft\\n- Minimum entry age of 18 years old up to 60 years old\\n- Premiums start from RM50 per annum\\n\\n3. Motor Takaful Plan\\n- Provides coverage for loss or damage to your vehicle due to accidents, fire, or theft\\n- Minimum entry age of 18 years old up to 65 years old\\n- Premiums start from RM350 per annum\\n\\nRHB:\\n1. Rahmah PA Insurance\\n- Personal accident plan that provides indemnity for death or permanent disablement due to accidents, daily hospital cash income at government hospitals, and bereavement allowance\\n- Minimum entry age of 16 years old up to 65 years old\\n- Premiums start from RM9.90 per annum\\n\\n2. Hong Leong SMART Protect Plus Insurance\\n- Investment-linked plan that provides life protection'"
            ],
            "application/vnd.google.colaboratory.intrinsic+json": {
              "type": "string"
            }
          },
          "metadata": {},
          "execution_count": 18
        }
      ]
    },
    {
      "cell_type": "markdown",
      "source": [
        " Bank Rakyat:\n",
        "1. Personal Accident Takaful Plan\n",
        "- Provides coverage for accidental death, permanent disability, and hospitalization expenses due to accidents\n",
        "- Minimum entry age of 18 years old up to 60 years old\n",
        "- Premiums start from RM10 per annum\n",
        "\n",
        "2. Homeowner Takaful Plan\n",
        "- Provides coverage for loss or damage to your home and its contents due to fire, flood, or theft\n",
        "- Minimum entry age of 18 years old up to 60 years old\n",
        "- Premiums start from RM50 per annum\n",
        "\n",
        "3. Motor Takaful Plan\n",
        "- Provides coverage for loss or damage to your vehicle due to accidents, fire, or theft\n",
        "- Minimum entry age of 18 years old up to 65 years old\n",
        "- Premiums start from RM350 per annum\n",
        "\n",
        "RHB:\n",
        "1. Rahmah PA Insurance\n",
        "- Personal accident plan that provides indemnity for death or permanent disablement due to accidents, daily hospital cash income at government hospitals, and bereavement allowance\n",
        "- Minimum entry age of 16 years old up to 65 years old\n",
        "- Premiums start from RM9.90 per annum\n",
        "\n",
        "2. Hong Leong SMART Protect Plus Insurance\n",
        "- Investment-linked plan that provides life protection"
      ],
      "metadata": {
        "id": "-_ukybkDCPi0"
      }
    },
    {
      "cell_type": "code",
      "source": [
        "query = \"How to apply this insurance?\"\n",
        "qa.run(query)"
      ],
      "metadata": {
        "colab": {
          "base_uri": "https://localhost:8080/",
          "height": 53
        },
        "id": "s8RACbrBCOvs",
        "outputId": "ab267fea-48a5-45ff-d5c7-70ef1a426b5a"
      },
      "execution_count": 19,
      "outputs": [
        {
          "output_type": "execute_result",
          "data": {
            "text/plain": [
              "' To apply for this insurance, you can contact RHB Insurance Bhd at their designated email address or Merimen Client Portal link. Alternatively, you can also contact their intermediary or nearest branches for further assistance.'"
            ],
            "application/vnd.google.colaboratory.intrinsic+json": {
              "type": "string"
            }
          },
          "metadata": {},
          "execution_count": 19
        }
      ]
    }
  ]
}